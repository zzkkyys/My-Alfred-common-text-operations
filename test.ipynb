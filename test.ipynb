{
 "cells": [
  {
   "cell_type": "code",
   "execution_count": 1,
   "metadata": {},
   "outputs": [],
   "source": [
    "import re, argparse, sys, os\n",
    "\n",
    "text='''graph TD\n",
    "    A[DNN所有权保护问题] --> B[现有水印方法]\n",
    "    B --> B1[基于特征的水印]\n",
    "    B --> B2[基于触发集的水印]\n",
    "    B1 --> C[易受歧义攻击]\n",
    "    B2 --> C\n",
    "    C --> D[伪造水印造成所有权歧义]\n",
    "    \n",
    "    E[提出解决方案: 基于护照的验证] --> F[护照层机制]\n",
    "    F --> F1[缩放因子γ = Avg(W * Pγ)]\n",
    "    F --> F2[偏移项β = Avg(W * Pβ)]\n",
    "    F --> F3[缩放因子符号作为签名]\n",
    "    \n",
    "    E --> G[三种验证方案]\n",
    "    G --> G1[V₁: 护照与模型一起分发]\n",
    "    G --> G2[V₂: 嵌入私有护照但不分发]\n",
    "    G --> G3[V₃: 同时嵌入护照和触发集]\n",
    "    \n",
    "    E --> H[性能调制机制]\n",
    "    H --> H1[有效护照: 正常性能]\n",
    "    H --> H2[无效护照: 性能显著下降]\n",
    "    H1 --> I[合法所有者验证]\n",
    "    H2 --> J[歧义攻击被击败]'''\n",
    "\n",
    "\n",
    "cleaned_text = re.sub(r'(\\[)([^\\[\\]]+)(\\])', r'[\"\\2\"]', text)"
   ]
  },
  {
   "cell_type": "code",
   "execution_count": 2,
   "metadata": {},
   "outputs": [
    {
     "data": {
      "text/plain": [
       "'graph TD\\n    A[\"DNN所有权保护问题\"] --> B[\"现有水印方法\"]\\n    B --> B1[\"基于特征的水印\"]\\n    B --> B2[\"基于触发集的水印\"]\\n    B1 --> C[\"易受歧义攻击\"]\\n    B2 --> C\\n    C --> D[\"伪造水印造成所有权歧义\"]\\n    \\n    E[\"提出解决方案: 基于护照的验证\"] --> F[\"护照层机制\"]\\n    F --> F1[\"缩放因子γ = Avg(W * Pγ)\"]\\n    F --> F2[\"偏移项β = Avg(W * Pβ)\"]\\n    F --> F3[\"缩放因子符号作为签名\"]\\n    \\n    E --> G[\"三种验证方案\"]\\n    G --> G1[\"V₁: 护照与模型一起分发\"]\\n    G --> G2[\"V₂: 嵌入私有护照但不分发\"]\\n    G --> G3[\"V₃: 同时嵌入护照和触发集\"]\\n    \\n    E --> H[\"性能调制机制\"]\\n    H --> H1[\"有效护照: 正常性能\"]\\n    H --> H2[\"无效护照: 性能显著下降\"]\\n    H1 --> I[\"合法所有者验证\"]\\n    H2 --> J[\"歧义攻击被击败\"]'"
      ]
     },
     "execution_count": 2,
     "metadata": {},
     "output_type": "execute_result"
    }
   ],
   "source": [
    "cleaned_text"
   ]
  }
 ],
 "metadata": {
  "kernelspec": {
   "display_name": "torch",
   "language": "python",
   "name": "python3"
  },
  "language_info": {
   "codemirror_mode": {
    "name": "ipython",
    "version": 3
   },
   "file_extension": ".py",
   "mimetype": "text/x-python",
   "name": "python",
   "nbconvert_exporter": "python",
   "pygments_lexer": "ipython3",
   "version": "3.10.16"
  }
 },
 "nbformat": 4,
 "nbformat_minor": 2
}
